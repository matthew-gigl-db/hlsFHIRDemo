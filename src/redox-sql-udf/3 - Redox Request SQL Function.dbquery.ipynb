{
 "cells": [
  {
   "cell_type": "code",
   "execution_count": 0,
   "metadata": {
    "application/vnd.databricks.v1+cell": {
     "cellMetadata": {
      "byteLimit": 10485760,
      "rowLimit": 1000
     },
     "inputWidgets": {},
     "nuid": "462dfd5d-2702-41dd-86d6-0b90cc90a697",
     "showTitle": false,
     "tableResultSettingsMap": {},
     "title": ""
    }
   },
   "outputs": [],
   "source": [
    "use redox.hls_webinar_fy25q4;\n",
    "-- use fhir_workshop.synthea;\n",
    "\n",
    "with eg as (\n",
    "  SELECT\n",
    "    \"post\" as http_method\n",
    "    ,\"DiagnosticReport\" as resource\n",
    "    ,\"_search\" as action\n",
    "    ,\"subject=Patient/81c2f5eb-f99f-40c4-b504-59483e6148d7\" as data\n",
    ")\n",
    ",response as (\n",
    "  SELECT\n",
    "    try_parse_json(redox_request(\n",
    "    http_method\n",
    "    ,resource\n",
    "    ,action\n",
    "    ,data\n",
    "  )) as response\n",
    "FROM \n",
    "  eg\n",
    ")\n",
    "SELECT\n",
    "  entry.value:fullUrl::string as fullUrl\n",
    "  ,entry.value:resource.based_on\n",
    "  ,entry.value:resource.code\n",
    "  ,entry.value:resource.encounter.reference::string as encounter_url\n",
    "  ,entry.value:resource.id::string as diagnostic_report_id\n",
    "  ,entry.value:resource.issued::timestamp as issued\n",
    "  ,entry.value:resource.meta\n",
    "  ,presentedForm.value:contentType::string as content_type\n",
    "  ,presentedForm.value:creation::timestamp as creation\n",
    "  ,unbase64(presentedForm.value:data::string)::string as diagnostic_report\n",
    "FROM \n",
    "  response \n",
    "  ,LATERAL variant_explode(response:entry) as entry\n",
    "  ,LATERAL variant_explode(entry.value:resource.presentedForm) as presentedForm\n",
    ";"
   ]
  }
 ],
 "metadata": {
  "application/vnd.databricks.v1+notebook": {
   "computePreferences": null,
   "dashboards": [],
   "environmentMetadata": null,
   "inputWidgetPreferences": null,
   "language": "sql",
   "notebookMetadata": {
    "sqlQueryOptions": {
     "applyAutoLimit": true,
     "catalog": "ah_demos",
     "schema": "default"
    }
   },
   "notebookName": "3 - Redox Request SQL Function.dbquery.ipynb",
   "widgets": {}
  },
  "language_info": {
   "name": "sql"
  }
 },
 "nbformat": 4,
 "nbformat_minor": 0
}

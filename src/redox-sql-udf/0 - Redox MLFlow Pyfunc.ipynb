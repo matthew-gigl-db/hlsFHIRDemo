{
 "cells": [
  {
   "cell_type": "markdown",
   "metadata": {
    "application/vnd.databricks.v1+cell": {
     "cellMetadata": {},
     "inputWidgets": {},
     "nuid": "4bf884f1-dc14-45c0-8a91-af00b1a008ab",
     "showTitle": false,
     "tableResultSettingsMap": {},
     "title": ""
    }
   },
   "source": [
    "*Note that this notebook should be run with a dedicated compute cluster with the ML Runtime.  It was developed using DBR 16.2 ML originally.  Updates to this notebook were written using ML DBR 16.4LTS and the MlFlow 3 Preview.* "
   ]
  },
  {
   "cell_type": "markdown",
   "metadata": {
    "application/vnd.databricks.v1+cell": {
     "cellMetadata": {},
     "inputWidgets": {},
     "nuid": "335c8352-6444-46e1-a0de-c15b8157ab2d",
     "showTitle": false,
     "tableResultSettingsMap": {},
     "title": ""
    }
   },
   "source": [
    "# Redox Request SQL UDF \n",
    "***\n",
    "\n",
    "The Redox API's authentication methods require the use of pyjwt plus several public and private keys and ids including a PEM file.  At time of writing the Unity Catalog http connection does not support this type of authentication, therefore to create a SQL UDF for interacting with this API (for agent frameworks or general analytics and Business Intelligence) requires the use of Mosaic Model Serving of a Unity Catalog model registered using MLFlow's pyfunc flavor.  \n",
    "\n",
    "This notebook achieves the following:  \n",
    "\n",
    "* Demonstrates the normal usuage of the Redox API accelerator that may be used for posting back FHIR compliant bundles to Redox, or retrieving real time data directly from the EMR.  More information about this Databricks Industry Acclerator may be found here:  [https://github.com/databricks-industry-solutions/redox-ehr-api](https://github.com/databricks-industry-solutions/redox-ehr-api)  \n",
    "* Uses MFLow's Pyfunc Flavor to create a model function that can be used to authenticate and call the Redox API directly in any setting, including with Mosiac Model Serving's serverless environment.  \n",
    "* Registers the model in Unity Catalog and adds the @latest alais to the latest run.  \n",
    "* Uses the Databricks Python SDK to serve the Model with Mosiac Model Serving, and the AI Gateway Preview for inference tables, usage and cost monitoring in the System Catalog's serving schema.  "
   ]
  },
  {
   "cell_type": "markdown",
   "metadata": {
    "application/vnd.databricks.v1+cell": {
     "cellMetadata": {},
     "inputWidgets": {},
     "nuid": "accf1869-b009-431f-84fe-6eb2c3157b77",
     "showTitle": false,
     "tableResultSettingsMap": {},
     "title": ""
    }
   },
   "source": [
    "***\n",
    "## Initial Setup"
   ]
  },
  {
   "cell_type": "code",
   "execution_count": 0,
   "metadata": {
    "application/vnd.databricks.v1+cell": {
     "cellMetadata": {
      "byteLimit": 2048000,
      "rowLimit": 10000
     },
     "inputWidgets": {},
     "nuid": "188c6146-cc7b-4052-921b-9c5a70c84281",
     "showTitle": true,
     "tableResultSettingsMap": {},
     "title": "Input Paramters"
    }
   },
   "outputs": [],
   "source": [
    "dbutils.widgets.dropdown(\"catalog_use\", \"redox\", [\"redox\", \"fhir_workshop\"])\n",
    "dbutils.widgets.dropdown(\"schema_use\", \"hls_webinar_fy25q4\", [\"hls_webinar_fy25q4\", \"synthea\"])\n",
    "dbutils.widgets.text(\"databricks_secret_scope\", \"redox-field-eng\", \"Secret Scope for the Redox Auth Keys and Ids\")"
   ]
  },
  {
   "cell_type": "code",
   "execution_count": 0,
   "metadata": {
    "application/vnd.databricks.v1+cell": {
     "cellMetadata": {
      "byteLimit": 2048000,
      "rowLimit": 10000
     },
     "inputWidgets": {},
     "nuid": "9f0ed45f-d486-4bed-bab2-26b6f2285809",
     "showTitle": true,
     "tableResultSettingsMap": {},
     "title": "Set Autoreload of Imported Packages"
    }
   },
   "outputs": [],
   "source": [
    "%load_ext autoreload\n",
    "%autoreload 2"
   ]
  },
  {
   "cell_type": "code",
   "execution_count": 0,
   "metadata": {
    "application/vnd.databricks.v1+cell": {
     "cellMetadata": {
      "byteLimit": 2048000,
      "rowLimit": 10000
     },
     "inputWidgets": {},
     "nuid": "04d77e3a-a228-48e6-a8d9-4b9d70129b04",
     "showTitle": true,
     "tableResultSettingsMap": {},
     "title": "Upgrade the Databricks Python SDK"
    }
   },
   "outputs": [],
   "source": [
    "%pip install databricks-sdk --upgrade"
   ]
  },
  {
   "cell_type": "code",
   "execution_count": 0,
   "metadata": {
    "application/vnd.databricks.v1+cell": {
     "cellMetadata": {
      "byteLimit": 2048000,
      "rowLimit": 10000
     },
     "inputWidgets": {},
     "nuid": "9fde4429-fff9-4ce2-abe6-ee1c52399c27",
     "showTitle": true,
     "tableResultSettingsMap": {},
     "title": "Restart Python"
    }
   },
   "outputs": [],
   "source": [
    "%restart_python"
   ]
  },
  {
   "cell_type": "code",
   "execution_count": 0,
   "metadata": {
    "application/vnd.databricks.v1+cell": {
     "cellMetadata": {
      "byteLimit": 2048000,
      "rowLimit": 10000
     },
     "inputWidgets": {},
     "nuid": "2454056a-db2d-4a89-a4f8-8839988d10f4",
     "showTitle": true,
     "tableResultSettingsMap": {},
     "title": "Install the Databricks Industry Accelerator for Redox EHR API Usage"
    }
   },
   "outputs": [],
   "source": [
    "%pip install git+https://github.com/databricks-industry-solutions/redox-ehr-api"
   ]
  },
  {
   "cell_type": "code",
   "execution_count": 0,
   "metadata": {
    "application/vnd.databricks.v1+cell": {
     "cellMetadata": {
      "byteLimit": 2048000,
      "rowLimit": 10000
     },
     "inputWidgets": {},
     "nuid": "5973d657-06d3-47a6-9e8a-f3112577abc6",
     "showTitle": true,
     "tableResultSettingsMap": {},
     "title": "Upgrade MLFlow to Version 3 (Preview)"
    }
   },
   "outputs": [],
   "source": [
    "%pip install mlflow --upgrade --pre"
   ]
  },
  {
   "cell_type": "code",
   "execution_count": 0,
   "metadata": {
    "application/vnd.databricks.v1+cell": {
     "cellMetadata": {
      "byteLimit": 2048000,
      "rowLimit": 10000
     },
     "inputWidgets": {},
     "nuid": "a0c0919e-0575-44d6-824d-a4df3b0a0d59",
     "showTitle": true,
     "tableResultSettingsMap": {},
     "title": "Restart Python"
    }
   },
   "outputs": [],
   "source": [
    "%restart_python"
   ]
  },
  {
   "cell_type": "markdown",
   "metadata": {
    "application/vnd.databricks.v1+cell": {
     "cellMetadata": {},
     "inputWidgets": {},
     "nuid": "00f8fe0d-4f59-4c7b-9247-529fbc4711c7",
     "showTitle": false,
     "tableResultSettingsMap": {},
     "title": ""
    }
   },
   "source": [
    "## Standard Usage \n",
    "***"
   ]
  },
  {
   "cell_type": "code",
   "execution_count": 0,
   "metadata": {
    "application/vnd.databricks.v1+cell": {
     "cellMetadata": {
      "byteLimit": 2048000,
      "rowLimit": 10000
     },
     "inputWidgets": {},
     "nuid": "6021ebfb-d232-4209-9ef5-02da0ea88752",
     "showTitle": true,
     "tableResultSettingsMap": {},
     "title": "Retrieve Databricks Secrets for the Redox API Authentication"
    }
   },
   "outputs": [],
   "source": [
    "databricks_secret_scope = dbutils.widgets.get(\"databricks_secret_scope\")\n",
    "\n",
    "redox_private_key = dbutils.secrets.get(scope = databricks_secret_scope, key = \"redox_private_key\")\n",
    "redox_client_id = dbutils.secrets.get(scope = databricks_secret_scope, key = \"redox_client_id\")\n",
    "redox_source_id = dbutils.secrets.get(scope = databricks_secret_scope, key = \"redox_source_id\")\n",
    "redox_public_kid = dbutils.secrets.get(scope = databricks_secret_scope, key = \"redox_public_kid\")\n",
    "\n",
    "print(f\"\"\" \n",
    "      redox_private_key: {redox_private_key}\n",
    "      redox_client_id: {redox_client_id}\n",
    "      redox_source_id: {redox_source_id}\n",
    "      redox_public_kid: {redox_public_kid}\n",
    "\"\"\")"
   ]
  },
  {
   "cell_type": "code",
   "execution_count": 0,
   "metadata": {
    "application/vnd.databricks.v1+cell": {
     "cellMetadata": {
      "byteLimit": 2048000,
      "rowLimit": 10000
     },
     "inputWidgets": {},
     "nuid": "85e334c7-1d1a-4fe1-a85d-9d36d7ec29c2",
     "showTitle": true,
     "tableResultSettingsMap": {},
     "title": "Set up Redox Auth JSON"
    }
   },
   "outputs": [],
   "source": [
    "import json\n",
    "\n",
    "redox_auth_json = f\"\"\"\n",
    "{{\n",
    "  \"kty\": \"RSA\",\n",
    "  \"kid\": \"{redox_public_kid}\",\n",
    "  \"alg\": \"RS384\",\n",
    "  \"use\": \"sig\"\n",
    "}}\n",
    "\"\"\"\n",
    "\n",
    "json.loads(redox_auth_json)"
   ]
  },
  {
   "cell_type": "code",
   "execution_count": 0,
   "metadata": {
    "application/vnd.databricks.v1+cell": {
     "cellMetadata": {
      "byteLimit": 2048000,
      "rowLimit": 10000
     },
     "inputWidgets": {},
     "nuid": "af38133f-b3f4-4f87-9ce6-fee082c9be50",
     "showTitle": true,
     "tableResultSettingsMap": {},
     "title": "Import the Redox Write Classes for Authentication and use with the Endpoint"
    }
   },
   "outputs": [],
   "source": [
    "from redoxwrite.auth import * \n",
    "from redoxwrite.endpoint import *"
   ]
  },
  {
   "cell_type": "code",
   "execution_count": 0,
   "metadata": {
    "application/vnd.databricks.v1+cell": {
     "cellMetadata": {
      "byteLimit": 2048000,
      "rowLimit": 10000
     },
     "inputWidgets": {},
     "nuid": "a4ad6ffe-56e0-4588-bb92-0c1b38fbd7f9",
     "showTitle": true,
     "tableResultSettingsMap": {},
     "title": "Test Authentication"
    }
   },
   "outputs": [],
   "source": [
    "auth = RedoxApiAuth(\n",
    "  redox_client_id\n",
    "  ,redox_private_key\n",
    "  ,redox_auth_json\n",
    "  ,redox_source_id\n",
    ")\n",
    "print(\"Is connection successful? \" + str(auth.can_connect()))"
   ]
  },
  {
   "cell_type": "code",
   "execution_count": 0,
   "metadata": {
    "application/vnd.databricks.v1+cell": {
     "cellMetadata": {
      "byteLimit": 2048000,
      "rowLimit": 10000
     },
     "inputWidgets": {},
     "nuid": "ca2ed3c4-0a64-4570-b36f-5bdbf595b5cb",
     "showTitle": true,
     "tableResultSettingsMap": {},
     "title": "Set Up the Redox Base URL"
    }
   },
   "outputs": [],
   "source": [
    "#All Redox FHIR request URLs start with this base: https://api.redoxengine.com/fhir/R4/[organization-name]/[environment-type]/\n",
    "redox_base_url = 'https://api.redoxengine.com/fhir/R4/redox-fhir-sandbox/Development/'\n",
    "\n",
    "rapi = RedoxApiRequest(auth, base_url = redox_base_url)"
   ]
  },
  {
   "cell_type": "code",
   "execution_count": 0,
   "metadata": {
    "application/vnd.databricks.v1+cell": {
     "cellMetadata": {
      "byteLimit": 2048000,
      "rowLimit": 10000
     },
     "inputWidgets": {},
     "nuid": "fa893ccc-90a4-489d-abb6-30ea7105b745",
     "showTitle": true,
     "tableResultSettingsMap": {},
     "title": "Example Payload to Create an Observation"
    }
   },
   "outputs": [],
   "source": [
    "#creating an observation for remaining length of 4 day stay at a hospital \n",
    "observation = \"\"\"\n",
    "{\n",
    "   \"resourceType\":\"Bundle\",\n",
    "   \"entry\":[\n",
    "      {\n",
    "         \"resource\":{\n",
    "            \"category\":[\n",
    "               {\n",
    "                  \"coding\":[\n",
    "                     {\n",
    "                        \"code\":\"survey\",\n",
    "                        \"display\":\"Survey\",\n",
    "                        \"system\":\"http://terminology.hl7.org/CodeSystem/observation-category\"\n",
    "                     }\n",
    "                  ]\n",
    "               }\n",
    "            ],\n",
    "            \"code\":{\n",
    "               \"coding\":[\n",
    "                  {\n",
    "                     \"code\":\"78033-8\",\n",
    "                     \"display\":\"Remaining Hospital Stay\",\n",
    "                     \"system\":\"http://loinc.org\"\n",
    "                  }\n",
    "               ],\n",
    "               \"text\":\"Remaining Hospital Stay\"\n",
    "            },\n",
    "            \"effectiveDateTime\":\"2024-01-28T18:06:33.245-05:00\",\n",
    "            \"issued\":\"2024-01-28T18:06:33.245-05:00\",\n",
    "            \"resourceType\":\"Observation\",\n",
    "            \"status\":\"final\",\n",
    "            \"valueQuantity\":{\n",
    "               \"code\":\"days\",\n",
    "               \"system\":\"https://www.nubc.org/CodeSystem/RevenueCodes\",\n",
    "               \"unit\":\"days\",\n",
    "               \"value\":4\n",
    "            },\n",
    "            \"subject\": {\n",
    "              \"reference\": \"Patient/58117110-ae47-452a-be2c-2d82b3a9e24b\"\n",
    "            },\n",
    "            \"identifier\": [\n",
    "            {\n",
    "              \"system\": \"urn:databricks\",\n",
    "              \"value\": \"1234567890\"\n",
    "            }\n",
    "          ]\n",
    "         }\n",
    "      },\n",
    "      {\n",
    "         \"resource\":{\n",
    "           \"resourceType\": \"Patient\",\n",
    "           \"identifier\": [\n",
    "            {\n",
    "              \"system\": \"urn:redox:health-one:MR\",\n",
    "              \"value\": \"0000991458\"\n",
    "            },\n",
    "            {\n",
    "              \"system\": \"http://hl7.org/fhir/sid/us-ssn\",\n",
    "              \"value\": \"547-01-9991\"\n",
    "            }\n",
    "          ]\n",
    "         }\n",
    "      }\n",
    "   ]\n",
    "}\n",
    "\"\"\""
   ]
  },
  {
   "cell_type": "code",
   "execution_count": 0,
   "metadata": {
    "application/vnd.databricks.v1+cell": {
     "cellMetadata": {
      "byteLimit": 2048000,
      "rowLimit": 10000
     },
     "inputWidgets": {},
     "nuid": "eb7f11f8-64b0-43c0-9807-64e25bb380f1",
     "showTitle": true,
     "tableResultSettingsMap": {},
     "title": "Post to Redox API to Create an Observation in the EHR"
    }
   },
   "outputs": [],
   "source": [
    "result = rapi.make_request(\n",
    "  http_method=\"post\"\n",
    "  ,resource=\"Observation\"\n",
    "  ,action=\"$observation-create\"\n",
    "  ,data=observation\n",
    ")"
   ]
  },
  {
   "cell_type": "code",
   "execution_count": 0,
   "metadata": {
    "application/vnd.databricks.v1+cell": {
     "cellMetadata": {
      "byteLimit": 2048000,
      "rowLimit": 10000
     },
     "inputWidgets": {},
     "nuid": "605cdc1d-6140-4278-92b4-f7fb3ebfd8d9",
     "showTitle": true,
     "tableResultSettingsMap": {},
     "title": "Return the Response - Check for status code 200"
    }
   },
   "outputs": [],
   "source": [
    "import json\n",
    "\n",
    "print(f\"Response Status Code: {result['response']['response_status_code']}\")\n",
    "print(\"\\n\")\n",
    "print(json.dumps(json.loads(result['response']['response_text']), indent=4))"
   ]
  },
  {
   "cell_type": "markdown",
   "metadata": {
    "application/vnd.databricks.v1+cell": {
     "cellMetadata": {},
     "inputWidgets": {},
     "nuid": "8a3ea1f9-6a91-47bf-8adb-827699bd3597",
     "showTitle": false,
     "tableResultSettingsMap": {},
     "title": ""
    }
   },
   "source": [
    "## Using MLFlow to Register the Redox API as a Pyfunc Flavor\n",
    "***"
   ]
  },
  {
   "cell_type": "code",
   "execution_count": 0,
   "metadata": {
    "application/vnd.databricks.v1+cell": {
     "cellMetadata": {
      "byteLimit": 2048000,
      "rowLimit": 10000
     },
     "inputWidgets": {},
     "nuid": "0f534fcf-0ed3-4deb-947d-336884f935f2",
     "showTitle": true,
     "tableResultSettingsMap": {},
     "title": "Import MLFlow"
    }
   },
   "outputs": [],
   "source": [
    "import mlflow\n",
    "from mlflow.pyfunc.utils import pyfunc\n",
    "from os import environ"
   ]
  },
  {
   "cell_type": "code",
   "execution_count": 0,
   "metadata": {
    "application/vnd.databricks.v1+cell": {
     "cellMetadata": {
      "byteLimit": 2048000,
      "rowLimit": 10000
     },
     "inputWidgets": {},
     "nuid": "a29b9de2-151a-43d3-b5c2-249d70c64582",
     "showTitle": true,
     "tableResultSettingsMap": {},
     "title": "Set Environment Variables for the Redox API Secrets for Use in Model Serving"
    }
   },
   "outputs": [],
   "source": [
    "environ['REDOX_PRIVATE_KEY'] = redox_private_key\n",
    "environ['REDOX_CLIENT_ID'] = redox_client_id\n",
    "environ['REDOX_SOURCE_ID'] = redox_source_id\n",
    "environ['REDOX_PUBLIC_KID'] = redox_public_kid"
   ]
  },
  {
   "cell_type": "code",
   "execution_count": 0,
   "metadata": {
    "application/vnd.databricks.v1+cell": {
     "cellMetadata": {
      "byteLimit": 2048000,
      "rowLimit": 10000
     },
     "inputWidgets": {},
     "nuid": "ddeba32c-d470-499c-b8b3-c5e55c0b0a4b",
     "showTitle": true,
     "tableResultSettingsMap": {},
     "title": "Create a Subclass \"RedoxMakeRequest\" of the MLFlow Pyfunc PythonModel"
    }
   },
   "outputs": [],
   "source": [
    "class RedoxMakeRequest(mlflow.pyfunc.PythonModel):\n",
    "    def __init__(self, base_url):\n",
    "        self.base_url = base_url\n",
    "\n",
    "    def load_context(self, context):\n",
    "        import redoxwrite.auth\n",
    "        import redoxwrite.endpoint\n",
    "        from os import environ\n",
    "        self.redox_private_key = environ['REDOX_PRIVATE_KEY']\n",
    "        self.redox_client_id = environ['REDOX_CLIENT_ID']\n",
    "        self.redox_source_id = environ['REDOX_SOURCE_ID']\n",
    "        self.redox_public_kid = environ['REDOX_PUBLIC_KID']\n",
    "        self.redox_auth_json = f\"\"\"\n",
    "                {{\n",
    "                \"kty\": \"RSA\",\n",
    "                \"kid\": \"{self.redox_public_kid}\",\n",
    "                \"alg\": \"RS384\",\n",
    "                \"use\": \"sig\"\n",
    "                }}\n",
    "            \"\"\"\n",
    "        self.auth = RedoxApiAuth(\n",
    "                self.redox_client_id\n",
    "                ,self.redox_private_key\n",
    "                ,self.redox_auth_json\n",
    "                ,self.redox_source_id\n",
    "            )\n",
    "        self.rapi = RedoxApiRequest(self.auth, base_url = self.base_url)\n",
    "    \n",
    "    @pyfunc\n",
    "    def predict(self, context, model_input, params = None) -> list[str]: \n",
    "        results = []\n",
    "        # Apply the self.rapi.make_request function to each row of the DataFrame\n",
    "        # Assumes that the model input contains the following columns:\n",
    "            # http_method, resource, action, data where data is a value FHIR payload\n",
    "        # Convert Pandas DF to string.\n",
    "        for row in model_input.itertuples(index=False):\n",
    "            result = self.rapi.make_request(\n",
    "                http_method=row.http_method\n",
    "                ,resource=row.resource\n",
    "                ,action=row.action\n",
    "                ,data=row.data\n",
    "            )\n",
    "            respone_text = result['response']['response_text']\n",
    "            results.append(respone_text)\n",
    "        return results"
   ]
  },
  {
   "cell_type": "code",
   "execution_count": 0,
   "metadata": {
    "application/vnd.databricks.v1+cell": {
     "cellMetadata": {
      "byteLimit": 2048000,
      "rowLimit": 10000
     },
     "inputWidgets": {},
     "nuid": "b4a3d247-bad3-4e03-aff8-4baff67cf26a",
     "showTitle": true,
     "tableResultSettingsMap": {},
     "title": "Create Sample Data to Test the Model and Infer Signatures"
    }
   },
   "outputs": [],
   "source": [
    "import pandas as pd\n",
    "\n",
    "df = pd.DataFrame({\"http_method\": [\"post\", \"post\"], \"resource\": [\"Observation\", \"DiagnosticReport\"], \"action\": [\"$observation-create\", \"_search\"], \"data\": [observation, \"subject=Patient/81c2f5eb-f99f-40c4-b504-59483e6148d7'\"]})\n",
    "df"
   ]
  },
  {
   "cell_type": "code",
   "execution_count": 0,
   "metadata": {
    "application/vnd.databricks.v1+cell": {
     "cellMetadata": {
      "byteLimit": 2048000,
      "rowLimit": 10000
     },
     "inputWidgets": {},
     "nuid": "60fa83ce-568e-45b4-9f30-f35507052a22",
     "showTitle": true,
     "tableResultSettingsMap": {},
     "title": "Infer Signatures"
    }
   },
   "outputs": [],
   "source": [
    "signature = mlflow.models.infer_signature(df, [\"redox_make_request\"])\n",
    "signature"
   ]
  },
  {
   "cell_type": "code",
   "execution_count": 0,
   "metadata": {
    "application/vnd.databricks.v1+cell": {
     "cellMetadata": {
      "byteLimit": 2048000,
      "rowLimit": 10000
     },
     "inputWidgets": {},
     "nuid": "c99e3882-ef71-4c5e-9659-c7983929b03f",
     "showTitle": true,
     "tableResultSettingsMap": {},
     "title": "Example Required Conda Environment Changes needed for the Model Run"
    }
   },
   "outputs": [],
   "source": [
    "conda_env = mlflow.pyfunc.get_default_conda_env()\n",
    "conda_env[\"dependencies\"][-1][\"pip\"].append(\"git+https://github.com/databricks-industry-solutions/redox-ehr-api\")\n",
    "conda_env[\"dependencies\"][-1][\"pip\"].append(\"pyjwt\")\n",
    "conda_env[\"dependencies\"][-1][\"pip\"].append(\"cryptography\")\n",
    "print(conda_env)"
   ]
  },
  {
   "cell_type": "code",
   "execution_count": 0,
   "metadata": {
    "application/vnd.databricks.v1+cell": {
     "cellMetadata": {
      "byteLimit": 2048000,
      "rowLimit": 10000
     },
     "inputWidgets": {},
     "nuid": "d837686d-ee98-453f-b9d1-ee63e3fdb9dd",
     "showTitle": true,
     "tableResultSettingsMap": {},
     "title": "Start Model Run with Conda Environment and Input Data Example, Log Artifacts and Model"
    }
   },
   "outputs": [],
   "source": [
    "with mlflow.start_run():\n",
    "\n",
    "    # Ensure the standard python libraries and the redox-ehr-api classed and methods are installed in the conda environment\n",
    "    conda_env = mlflow.pyfunc.get_default_conda_env()\n",
    "    conda_env[\"dependencies\"][-1][\"pip\"].append(\"git+https://github.com/databricks-industry-solutions/redox-ehr-api\")\n",
    "    # conda_env[\"dependencies\"][-1][\"pip\"].append(\"databricks-sdk\")\n",
    "    conda_env[\"dependencies\"][-1][\"pip\"].append(\"pyjwt\")\n",
    "    conda_env[\"dependencies\"][-1][\"pip\"].append(\"cryptography\")\n",
    "\n",
    "    input_example = df.iloc[[0]]\n",
    "    \n",
    "    model_info = mlflow.pyfunc.log_model(\n",
    "        name=\"model\"\n",
    "        ,python_model=RedoxMakeRequest(\n",
    "            base_url=redox_base_url\n",
    "        )\n",
    "        ,signature=signature\n",
    "        ,conda_env=conda_env\n",
    "        ,input_example=input_example\n",
    "    )\n",
    "\n",
    "    # Log an example of how to use the model\n",
    "    example_input = df.head(1).to_dict(orient=\"records\")\n",
    "    mlflow.log_dict(example_input, \"input_example.json\")"
   ]
  },
  {
   "cell_type": "code",
   "execution_count": 0,
   "metadata": {
    "application/vnd.databricks.v1+cell": {
     "cellMetadata": {
      "byteLimit": 2048000,
      "rowLimit": 10000
     },
     "inputWidgets": {},
     "nuid": "b830975e-dacf-4a3b-90c3-7ac0ca9cc737",
     "showTitle": true,
     "tableResultSettingsMap": {},
     "title": "Print Model Info from the Run"
    }
   },
   "outputs": [],
   "source": [
    "print(f\"\"\"\n",
    "      model_info.model_uri = {model_info.model_uri}\n",
    "      model_info.model_id = {model_info.model_id}\n",
    "      model_info.run_id = {model_info.run_id}\n",
    "\"\"\")"
   ]
  },
  {
   "cell_type": "code",
   "execution_count": 0,
   "metadata": {
    "application/vnd.databricks.v1+cell": {
     "cellMetadata": {
      "byteLimit": 2048000,
      "rowLimit": 10000
     },
     "inputWidgets": {},
     "nuid": "d67adac2-6ac8-4785-af70-acde49206b03",
     "showTitle": true,
     "tableResultSettingsMap": {},
     "title": "Load the Logged Model for Testing"
    }
   },
   "outputs": [],
   "source": [
    "logged_model = mlflow.pyfunc.load_model(model_info.model_uri)"
   ]
  },
  {
   "cell_type": "code",
   "execution_count": 0,
   "metadata": {
    "application/vnd.databricks.v1+cell": {
     "cellMetadata": {
      "byteLimit": 2048000,
      "rowLimit": 10000
     },
     "inputWidgets": {},
     "nuid": "965b3317-3cf9-46e5-b8d5-e48b69583827",
     "showTitle": true,
     "tableResultSettingsMap": {},
     "title": "Use the Loaded Logged Model's predict function to call the Redox API"
    }
   },
   "outputs": [],
   "source": [
    "# logged_model = f\"runs:/{run_id}/model\"\n",
    "\n",
    "# # Load model as a PyFuncModel.\n",
    "# loaded_model = mlflow.pyfunc.load_model(logged_model)\n",
    "\n",
    "# Predict on a Pandas DataFrame.\n",
    "logged_model.predict(df.iloc[[0]])"
   ]
  },
  {
   "cell_type": "code",
   "execution_count": 0,
   "metadata": {
    "application/vnd.databricks.v1+cell": {
     "cellMetadata": {
      "byteLimit": 2048000,
      "rowLimit": 10000
     },
     "inputWidgets": {},
     "nuid": "7ed29ced-d6d8-43e6-8c72-577c7a797b0f",
     "showTitle": true,
     "tableResultSettingsMap": {},
     "title": "Set Model Registry to Unity Catalog and Set Registry Details"
    }
   },
   "outputs": [],
   "source": [
    "mlflow.set_registry_uri(\"databricks-uc\")\n",
    "\n",
    "catalog_use = dbutils.widgets.get(\"catalog_use\")\n",
    "schema_use = dbutils.widgets.get(\"schema_use\")\n",
    "model_name = \"redox_make_request\"\n",
    "full_model_name = f\"{catalog_use}.{schema_use}.{model_name}\"\n",
    "full_model_name"
   ]
  },
  {
   "cell_type": "code",
   "execution_count": 0,
   "metadata": {
    "application/vnd.databricks.v1+cell": {
     "cellMetadata": {
      "byteLimit": 2048000,
      "rowLimit": 10000
     },
     "inputWidgets": {},
     "nuid": "3331029a-fb36-44e2-8190-03a027769eae",
     "showTitle": true,
     "tableResultSettingsMap": {},
     "title": "Register the Model Run as a Version in Unity Catalog"
    }
   },
   "outputs": [],
   "source": [
    "# mlflow.register_model(f\"runs:/{model_info.run_id}\", full_model_name)\n",
    "mlflow.register_model(model_info.model_uri, full_model_name)"
   ]
  },
  {
   "cell_type": "code",
   "execution_count": 0,
   "metadata": {
    "application/vnd.databricks.v1+cell": {
     "cellMetadata": {
      "byteLimit": 2048000,
      "rowLimit": 10000
     },
     "inputWidgets": {},
     "nuid": "3de77fcb-f192-415f-926f-a06f5b26543b",
     "showTitle": true,
     "tableResultSettingsMap": {},
     "title": "Set the MLFlowClient"
    }
   },
   "outputs": [],
   "source": [
    "client = mlflow.MlflowClient()"
   ]
  },
  {
   "cell_type": "code",
   "execution_count": 0,
   "metadata": {
    "application/vnd.databricks.v1+cell": {
     "cellMetadata": {
      "byteLimit": 2048000,
      "rowLimit": 10000
     },
     "inputWidgets": {},
     "nuid": "bcae0cb0-b564-451a-ade2-4079efad660d",
     "showTitle": true,
     "tableResultSettingsMap": {},
     "title": "Determine the Latest Version of the Model Registered to Unity Catalog"
    }
   },
   "outputs": [],
   "source": [
    "# Search for all versions of the model\n",
    "model_version_infos = client.search_model_versions(f\"name = '{full_model_name}'\")\n",
    "\n",
    "# Find the latest version\n",
    "latest_version = max([model_version_info.version for model_version_info in model_version_infos])\n",
    "print(f\"\"\"\n",
    "    The latest version of the model {full_model_name} in Unity Catalog is version {latest_version}.\n",
    "\"\"\")"
   ]
  },
  {
   "cell_type": "code",
   "execution_count": 0,
   "metadata": {
    "application/vnd.databricks.v1+cell": {
     "cellMetadata": {
      "byteLimit": 2048000,
      "rowLimit": 10000
     },
     "inputWidgets": {},
     "nuid": "19fcdf2b-ad8a-44c9-adb4-f8126db8a209",
     "showTitle": true,
     "tableResultSettingsMap": {},
     "title": "Set \"latest_version\" alias in Unity Catalog"
    }
   },
   "outputs": [],
   "source": [
    "try:\n",
    "    prior_model_version = client.get_model_version_by_alias(full_model_name, \"latest_version\")\n",
    "\n",
    "    if prior_model_version.version != latest_version:\n",
    "        client.delete_registered_model_alias(full_model_name, \"latest_version\")\n",
    "except:\n",
    "    pass\n",
    "\n",
    "# Create an alias for the model version\n",
    "client.set_registered_model_alias(full_model_name, \"latest_version\", latest_version)"
   ]
  },
  {
   "cell_type": "code",
   "execution_count": 0,
   "metadata": {
    "application/vnd.databricks.v1+cell": {
     "cellMetadata": {
      "byteLimit": 2048000,
      "rowLimit": 10000
     },
     "inputWidgets": {},
     "nuid": "24dc3245-5366-4b63-8255-61a7b9ea95b2",
     "showTitle": true,
     "tableResultSettingsMap": {},
     "title": "Load Model and Predict Based on Alias"
    }
   },
   "outputs": [],
   "source": [
    "# Load Unity Catalog model as a PyFuncModel.\n",
    "loaded_model = mlflow.pyfunc.load_model(f\"models:/{full_model_name}@latest_version\")\n",
    "\n",
    "# Predict on a Pandas DataFrame.\n",
    "loaded_model.predict(df.iloc[[0]])"
   ]
  },
  {
   "cell_type": "markdown",
   "metadata": {
    "application/vnd.databricks.v1+cell": {
     "cellMetadata": {},
     "inputWidgets": {},
     "nuid": "3c504bee-a138-462c-a499-89b34e307402",
     "showTitle": false,
     "tableResultSettingsMap": {},
     "title": ""
    }
   },
   "source": [
    "***\n",
    "## Mosiac Model Serving"
   ]
  },
  {
   "cell_type": "code",
   "execution_count": 0,
   "metadata": {
    "application/vnd.databricks.v1+cell": {
     "cellMetadata": {
      "byteLimit": 2048000,
      "rowLimit": 10000
     },
     "inputWidgets": {},
     "nuid": "37439ead-e915-4b1d-9a38-ba8257bf3f00",
     "showTitle": true,
     "tableResultSettingsMap": {},
     "title": "Import the Databricks Python SDK, Required Serving Classes and Set Up the Workspace Client"
    }
   },
   "outputs": [],
   "source": [
    "from databricks.sdk import WorkspaceClient\n",
    "from databricks.sdk.service.serving import EndpointCoreConfigInput, ServedEntityInput, ServingModelWorkloadType, AiGatewayConfig, AiGatewayInferenceTableConfig, AiGatewayUsageTrackingConfig\n",
    "\n",
    "w = WorkspaceClient()"
   ]
  },
  {
   "cell_type": "code",
   "execution_count": 0,
   "metadata": {
    "application/vnd.databricks.v1+cell": {
     "cellMetadata": {
      "byteLimit": 2048000,
      "rowLimit": 10000
     },
     "inputWidgets": {},
     "nuid": "2c467006-d95d-4d50-9a9b-fb853735ee16",
     "showTitle": true,
     "tableResultSettingsMap": {},
     "title": "Create a Model Serving Endpoint with AI Gateway Enabled for Monitoring and Inference Tables"
    }
   },
   "outputs": [],
   "source": [
    "if dbutils.widgets.get(\"run_mms\") == \"yes\":\n",
    "    w.serving_endpoints.create(\n",
    "        name = model_name\n",
    "        ,config = EndpointCoreConfigInput(\n",
    "            name = model_name\n",
    "            ,served_entities = [\n",
    "                ServedEntityInput(\n",
    "                    entity_name = full_model_name\n",
    "                    ,entity_version = client.get_model_version_by_alias(full_model_name, \"latest_version\").version\n",
    "                    ,environment_vars = {\n",
    "                        'REDOX_PRIVATE_KEY': \"{{secrets/\" + f\"{databricks_secret_scope}\" + \"/redox_private_key}}\"\n",
    "                        ,'REDOX_CLIENT_ID': \"{{secrets/\" + f\"{databricks_secret_scope}\" + \"/redox_client_id}}\"\n",
    "                        ,'REDOX_SOURCE_ID': \"{{secrets/\" + f\"{databricks_secret_scope}\" + \"/redox_source_id}}\"\n",
    "                        ,'REDOX_PUBLIC_KID': \"{{secrets/\" + f\"{databricks_secret_scope}\" + \"/redox_public_kid}}\"\n",
    "                    }\n",
    "                    ,scale_to_zero_enabled = True\n",
    "                    ,workload_size = \"Small\"\n",
    "                    ,workload_type = ServingModelWorkloadType(\"CPU\")\n",
    "                )\n",
    "            ]\n",
    "        )\n",
    "        ,ai_gateway = AiGatewayConfig(\n",
    "            inference_table_config = AiGatewayInferenceTableConfig(\n",
    "                catalog_name=catalog_use\n",
    "                ,schema_name=schema_use\n",
    "                ,table_name_prefix = None\n",
    "                ,enabled=True\n",
    "            )\n",
    "            ,usage_tracking_config = AiGatewayUsageTrackingConfig(\n",
    "                enabled=True\n",
    "            )\n",
    "        )\n",
    "    )"
   ]
  }
 ],
 "metadata": {
  "application/vnd.databricks.v1+notebook": {
   "computePreferences": null,
   "dashboards": [],
   "environmentMetadata": {
    "base_environment": "",
    "environment_version": "2"
   },
   "inputWidgetPreferences": null,
   "language": "python",
   "notebookMetadata": {
    "mostRecentlyExecutedCommandWithImplicitDF": {
     "commandId": -1,
     "dataframes": [
      "_sqldf"
     ]
    },
    "pythonIndentUnit": 4
   },
   "notebookName": "0 - Redox MLFlow Pyfunc",
   "widgets": {
    "catalog_use": {
     "currentValue": "healthcare_lifesciences",
     "nuid": "1608b67a-41f5-48cd-96c3-dea06e2cff18",
     "typedWidgetInfo": {
      "autoCreated": false,
      "defaultValue": "healthcare_lifesciences",
      "label": "",
      "name": "catalog_use",
      "options": {
       "widgetDisplayType": "Dropdown",
       "choices": [
        "redox",
        "fhir_workshop",
        "healthcare_lifesciences"
       ],
       "fixedDomain": true,
       "multiselect": false
      },
      "parameterDataType": "String"
     },
     "widgetInfo": {
      "widgetType": "dropdown",
      "defaultValue": "healthcare_lifesciences",
      "label": "",
      "name": "catalog_use",
      "options": {
       "widgetType": "dropdown",
       "autoCreated": false,
       "choices": [
        "redox",
        "fhir_workshop",
        "healthcare_lifesciences"
       ]
      }
     }
    },
    "databricks_secret_scope": {
     "currentValue": "redox-field-eng",
     "nuid": "3fc83b9f-4a13-43dd-87f8-c7000f15095c",
     "typedWidgetInfo": {
      "autoCreated": false,
      "defaultValue": "redox-field-eng",
      "label": "Secret Scope for the Redox Auth Keys and Ids",
      "name": "databricks_secret_scope",
      "options": {
       "widgetDisplayType": "Text",
       "validationRegex": null
      },
      "parameterDataType": "String"
     },
     "widgetInfo": {
      "widgetType": "text",
      "defaultValue": "redox-field-eng",
      "label": "Secret Scope for the Redox Auth Keys and Ids",
      "name": "databricks_secret_scope",
      "options": {
       "widgetType": "text",
       "autoCreated": null,
       "validationRegex": null
      }
     }
    },
    "run_mms": {
     "currentValue": "no",
     "nuid": "6df518f6-9f66-4b06-b16a-7ad2eb87191c",
     "typedWidgetInfo": {
      "autoCreated": false,
      "defaultValue": "no",
      "label": "",
      "name": "run_mms",
      "options": {
       "widgetDisplayType": "Dropdown",
       "choices": [
        "yes",
        "no"
       ],
       "fixedDomain": true,
       "multiselect": false
      },
      "parameterDataType": "String"
     },
     "widgetInfo": {
      "widgetType": "dropdown",
      "defaultValue": "no",
      "label": "",
      "name": "run_mms",
      "options": {
       "widgetType": "dropdown",
       "autoCreated": false,
       "choices": [
        "yes",
        "no"
       ]
      }
     }
    },
    "schema_use": {
     "currentValue": "hospital_ops",
     "nuid": "fba57bf5-f786-444b-a7bb-0094f37a60ee",
     "typedWidgetInfo": {
      "autoCreated": false,
      "defaultValue": "hospital_ops",
      "label": "",
      "name": "schema_use",
      "options": {
       "widgetDisplayType": "Dropdown",
       "choices": [
        "hls_webinar_fy25q4",
        "synthea",
        "hospital_ops"
       ],
       "fixedDomain": true,
       "multiselect": false
      },
      "parameterDataType": "String"
     },
     "widgetInfo": {
      "widgetType": "dropdown",
      "defaultValue": "hospital_ops",
      "label": "",
      "name": "schema_use",
      "options": {
       "widgetType": "dropdown",
       "autoCreated": false,
       "choices": [
        "hls_webinar_fy25q4",
        "synthea",
        "hospital_ops"
       ]
      }
     }
    }
   }
  },
  "language_info": {
   "name": "python"
  }
 },
 "nbformat": 4,
 "nbformat_minor": 0
}

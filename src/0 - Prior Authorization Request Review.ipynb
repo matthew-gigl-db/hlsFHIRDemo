{
 "cells": [
  {
   "cell_type": "markdown",
   "metadata": {
    "application/vnd.databricks.v1+cell": {
     "cellMetadata": {
      "byteLimit": 2048000,
      "rowLimit": 10000
     },
     "inputWidgets": {},
     "nuid": "58cd7439-e344-48d6-9401-43202cb1f19c",
     "showTitle": false,
     "tableResultSettingsMap": {},
     "title": ""
    }
   },
   "source": [
    "# Databricks Health & Life Sciences\n",
    "### HIMSS 2025\n",
    "## Prior Authorization Review with DBSQL, Variant, dbignite & redox-ehr-api\n",
    "\n",
    "*** "
   ]
  },
  {
   "cell_type": "markdown",
   "metadata": {
    "application/vnd.databricks.v1+cell": {
     "cellMetadata": {
      "byteLimit": 2048000,
      "rowLimit": 10000
     },
     "inputWidgets": {},
     "nuid": "d8e0547b-3098-449f-a833-69f578445630",
     "showTitle": false,
     "tableResultSettingsMap": {},
     "title": ""
    }
   },
   "source": [
    "## Exploratory Analysis\n",
    "***"
   ]
  },
  {
   "cell_type": "code",
   "execution_count": 0,
   "metadata": {
    "application/vnd.databricks.v1+cell": {
     "cellMetadata": {
      "byteLimit": 2048000,
      "implicitDf": true,
      "rowLimit": 10000
     },
     "inputWidgets": {},
     "nuid": "6a3130ac-86f4-4337-9b1a-c8202993916b",
     "showTitle": true,
     "tableResultSettingsMap": {},
     "title": "Set Catalog & Schema to Use"
    }
   },
   "outputs": [],
   "source": [
    "USE redox.hls_webinar_fy25q4;"
   ]
  },
  {
   "cell_type": "code",
   "execution_count": 0,
   "metadata": {
    "application/vnd.databricks.v1+cell": {
     "cellMetadata": {
      "byteLimit": 2048000,
      "rowLimit": 10000
     },
     "inputWidgets": {},
     "nuid": "9a030fb1-5a05-465c-a9f8-a4e045ecd138",
     "showTitle": true,
     "tableResultSettingsMap": {},
     "title": "Immediate Exploratory Analysis With Bronze Tables, DBSQL and Variant"
    }
   },
   "outputs": [
    {
     "output_type": "display_data",
     "data": {
      "text/plain": [
       "Databricks visualization. Run in Databricks to view."
      ]
     },
     "metadata": {
      "application/vnd.databricks.v1.subcommand+json": {
       "baseErrorDetails": null,
       "bindings": {},
       "collapsed": false,
       "command": "select * from fhir_bronze_variant;\n\nselect\n  fhir:entry[0].resource.id::string as patient_id\n  ,fhir:entry[0].resource.address[0].extension[0].extension[0].valueDecimal::double as latitude\n  ,fhir:entry[0].resource.address[0].extension[0].extension[1].valueDecimal::double as longitude\nfrom \n  fhir_bronze_variant\nwhere\n  fhir:entry[0].resource.resourceType::string = 'Patient'\n  ;",
       "commandTitle": "Visualization 1",
       "commandType": "auto",
       "commandVersion": 0,
       "commentThread": [],
       "commentsVisible": false,
       "contentSha256Hex": null,
       "customPlotOptions": {
        "redashChart": [
         {
          "key": "type",
          "value": "MAP"
         },
         {
          "key": "options",
          "value": {
           "backgroundColor": "#356AFF",
           "borderColor": "#356AFF",
           "bounds": null,
           "clusterMarkers": false,
           "customizeMarkers": false,
           "foregroundColor": "#ffffff",
           "groups": {},
           "iconFont": "circle",
           "iconShape": "marker",
           "latColName": "latitude",
           "lonColName": "longitude",
           "mapTileUrl": "//{s}.tile.openstreetmap.org/{z}/{x}/{y}.png",
           "popup": {
            "enabled": true,
            "template": ""
           },
           "tooltip": {
            "enabled": false,
            "template": ""
           }
          }
         }
        ]
       },
       "datasetPreviewNameToCmdIdMap": {},
       "diffDeletes": [],
       "diffInserts": [],
       "displayType": "redashChart",
       "error": null,
       "errorDetails": null,
       "errorSummary": null,
       "errorTraceType": null,
       "finishTime": 0,
       "globalVars": {},
       "guid": "",
       "height": "auto",
       "hideCommandCode": false,
       "hideCommandResult": false,
       "iPythonMetadata": null,
       "inputWidgets": {},
       "isLockedInExamMode": false,
       "latestUser": "a user",
       "latestUserId": null,
       "listResultMetadata": null,
       "metadata": {
        "byteLimit": 2048000,
        "rowLimit": 10000
       },
       "nuid": "e0736637-27d0-4320-a44c-1e3e1f836fd6",
       "origId": 0,
       "parentHierarchy": [],
       "pivotAggregation": null,
       "pivotColumns": null,
       "position": 5.0,
       "resultDbfsErrorMessage": null,
       "resultDbfsStatus": "INLINED_IN_TREE",
       "results": null,
       "showCommandTitle": false,
       "startTime": 0,
       "state": "input",
       "streamStates": {},
       "subcommandOptions": {},
       "submitTime": 0,
       "subtype": "tableResultSubCmd.visualization",
       "tableResultIndex": 1,
       "tableResultSettingsMap": {},
       "useConsistentColors": false,
       "version": "CommandV1",
       "width": "auto",
       "workflows": null,
       "xColumns": null,
       "yColumns": null
      }
     },
     "output_type": "display_data"
    }
   ],
   "source": [
    "select * from fhir_bronze_variant;\n",
    "\n",
    "select\n",
    "  fhir:entry[0].resource.id::string as patient_id\n",
    "  ,fhir:entry[0].resource.address[0].extension[0].extension[0].valueDecimal::double as latitude\n",
    "  ,fhir:entry[0].resource.address[0].extension[0].extension[1].valueDecimal::double as longitude\n",
    "from \n",
    "  fhir_bronze_variant\n",
    "where\n",
    "  fhir:entry[0].resource.resourceType::string = 'Patient'\n",
    "  ;"
   ]
  },
  {
   "cell_type": "code",
   "execution_count": 0,
   "metadata": {
    "application/vnd.databricks.v1+cell": {
     "cellMetadata": {
      "byteLimit": 2048000,
      "rowLimit": 10000
     },
     "inputWidgets": {},
     "nuid": "9635bc86-c7b1-4c7d-a3d9-fffd6511f735",
     "showTitle": true,
     "tableResultSettingsMap": {},
     "title": "Set Input Paramerter and Declare Variable for Bundle to Review"
    }
   },
   "outputs": [],
   "source": [
    "DECLARE OR REPLACE VARIABLE prior_auth_bundle_uuid STRING DEFAULT \"a710df7d-92b8-4e3e-99ca-b5df37808bc9\";\n",
    "\n",
    "SET VARIABLE prior_auth_bundle_uuid = :bundle_uuid;\n",
    "\n",
    "SELECT prior_auth_bundle_uuid;"
   ]
  },
  {
   "cell_type": "code",
   "execution_count": 0,
   "metadata": {
    "application/vnd.databricks.v1+cell": {
     "cellMetadata": {
      "byteLimit": 2048000,
      "implicitDf": true,
      "rowLimit": 10000
     },
     "inputWidgets": {},
     "nuid": "64509a95-0fee-4d4e-af3b-098b31973fcf",
     "showTitle": true,
     "tableResultSettingsMap": {},
     "title": "Review the Full Bundle As It Originally Arrived in Bronze with Variant"
    }
   },
   "outputs": [],
   "source": [
    "SELECT \n",
    "  * \n",
    "FROM \n",
    "  fhir_bronze_variant \n",
    "WHERE \n",
    "  bundle_uuid = prior_auth_bundle_uuid;"
   ]
  },
  {
   "cell_type": "code",
   "execution_count": 0,
   "metadata": {
    "application/vnd.databricks.v1+cell": {
     "cellMetadata": {
      "byteLimit": 2048000,
      "rowLimit": 10000
     },
     "inputWidgets": {},
     "nuid": "c5bb6ce0-c194-4084-b08a-e957b3f323ae",
     "showTitle": true,
     "tableResultSettingsMap": {},
     "title": "Lateral Explode the Entry Array That Contains the Resources and Extact the Resource Type"
    }
   },
   "outputs": [],
   "source": [
    "SELECT \n",
    "  bundle_uuid\n",
    "  ,entry.value:fullUrl::string as fullUrl\n",
    "  ,entry.value:resource.resourceType::string as resourceType\n",
    "  ,entry.value as resource\n",
    "FROM \n",
    "  fhir_bronze_variant\n",
    "  ,LATERAL variant_explode(fhir:entry) as entry\n",
    "WHERE \n",
    "  bundle_uuid = prior_auth_bundle_uuid"
   ]
  },
  {
   "cell_type": "code",
   "execution_count": 0,
   "metadata": {
    "application/vnd.databricks.v1+cell": {
     "cellMetadata": {
      "byteLimit": 2048000,
      "rowLimit": 10000
     },
     "inputWidgets": {},
     "nuid": "7735c3cd-7060-4939-9601-a721b4b36c3e",
     "showTitle": true,
     "tableResultSettingsMap": {},
     "title": "Use SQL to Pivot the Table Wide"
    }
   },
   "outputs": [],
   "source": [
    "WITH entry_exploded as (\n",
    "  SELECT \n",
    "    bundle_uuid\n",
    "    ,entry.value:fullUrl::string as fullUrl\n",
    "    ,entry.value:resource.resourceType::string as resourceType\n",
    "    ,entry.value as resource\n",
    "  FROM \n",
    "    fhir_bronze_variant\n",
    "    ,LATERAL variant_explode(fhir:entry) as entry\n",
    "  WHERE \n",
    "    bundle_uuid = prior_auth_bundle_uuid\n",
    ")\n",
    ",pivoted_reources as (\n",
    "  SELECT \n",
    "    * \n",
    "  FROM (\n",
    "    SELECT\n",
    "      bundle_uuid\n",
    "      ,fullUrl\n",
    "      ,resourceType\n",
    "      ,resource\n",
    "    FROM \n",
    "      entry_exploded\n",
    "    )\n",
    "  PIVOT (\n",
    "    first(resource) FOR resourceType IN (\n",
    "      'Claim'\n",
    "      ,'Patient'\n",
    "      ,'Practitioner'\n",
    "      ,'Organization'\n",
    "      ,'Coverage'\n",
    "      ,'RelatedPerson'\n",
    "      ,'ServiceRequest'\n",
    "    )\n",
    "  )\n",
    ")\n",
    "SELECT\n",
    "  bundle_uuid\n",
    "  ,collect_list(Claim)::variant as Claim\n",
    "  ,collect_list(Patient)::variant as Patient\n",
    "  ,collect_list(Practitioner)::variant as Practitioner\n",
    "  ,collect_list(Organization)::variant as Organization\n",
    "  ,collect_list(Coverage)::variant as Coverage\n",
    "  ,collect_list(RelatedPerson)::variant as RelatedPerson\n",
    "  ,collect_list(ServiceRequest)::variant as ServiceRequest\n",
    "FROM\n",
    "  pivoted_reources\n",
    "GROUP BY\n",
    "  bundle_uuid\n",
    ";"
   ]
  },
  {
   "cell_type": "code",
   "execution_count": 0,
   "metadata": {
    "application/vnd.databricks.v1+cell": {
     "cellMetadata": {
      "byteLimit": 2048000,
      "rowLimit": 10000
     },
     "inputWidgets": {},
     "nuid": "649dae61-d1a6-4ace-b54d-08e9e445b3d7",
     "showTitle": false,
     "tableResultSettingsMap": {},
     "title": ""
    }
   },
   "outputs": [],
   "source": [
    "-- DROP VIEW IF EXISTS prior_auth_request_bundle;\n",
    "-- DROP FUNCTION IF EXISTS calculate_area;"
   ]
  },
  {
   "cell_type": "code",
   "execution_count": 0,
   "metadata": {
    "application/vnd.databricks.v1+cell": {
     "cellMetadata": {
      "byteLimit": 2048000,
      "rowLimit": 10000
     },
     "inputWidgets": {},
     "nuid": "a8d2eff2-aac0-402c-a9b0-5c184ed4814a",
     "showTitle": true,
     "tableResultSettingsMap": {},
     "title": "Create a View of the Prior Auth Data to Use with Other Notebooks"
    }
   },
   "outputs": [],
   "source": [
    "DECLARE OR REPLACE VARIABLE pa_view_stmnt STRING;\n",
    "\n",
    "SET VARIABLE pa_view_stmnt = \"\n",
    "  CREATE OR REPLACE VIEW prior_auth_request_bundle AS\n",
    "  WITH entry_exploded as (\n",
    "    SELECT \n",
    "      bundle_uuid\n",
    "      ,entry.value:fullUrl::string as fullUrl\n",
    "      ,entry.value:resource.resourceType::string as resourceType\n",
    "      ,entry.value as resource\n",
    "    FROM \n",
    "      fhir_bronze_variant\n",
    "      ,LATERAL variant_explode(fhir:entry) as entry\n",
    "    WHERE \n",
    "      bundle_uuid = '\" || prior_auth_bundle_uuid || \"'\n",
    "  )\n",
    "  ,pivoted_reources as (\n",
    "    SELECT \n",
    "      * \n",
    "    FROM (\n",
    "      SELECT\n",
    "        bundle_uuid\n",
    "        ,fullUrl\n",
    "        ,resourceType\n",
    "        ,resource\n",
    "      FROM \n",
    "        entry_exploded\n",
    "      )\n",
    "    PIVOT (\n",
    "      first(resource) FOR resourceType IN (\n",
    "        'Claim'\n",
    "        ,'Patient'\n",
    "        ,'Practitioner'\n",
    "        ,'Organization'\n",
    "        ,'Coverage'\n",
    "        ,'RelatedPerson'\n",
    "        ,'ServiceRequest'\n",
    "      )\n",
    "    )\n",
    "  )\n",
    "  SELECT\n",
    "    bundle_uuid\n",
    "    ,collect_list(Claim)::variant as Claim\n",
    "    ,collect_list(Patient)::variant as Patient\n",
    "    ,collect_list(Practitioner)::variant as Practitioner\n",
    "    ,collect_list(Organization)::variant as Organization\n",
    "    ,collect_list(Coverage)::variant as Coverage\n",
    "    ,collect_list(RelatedPerson)::variant as RelatedPerson\n",
    "    ,collect_list(ServiceRequest)::variant as ServiceRequest\n",
    "  FROM\n",
    "    pivoted_reources\n",
    "  GROUP BY\n",
    "    bundle_uuid\n",
    "  ;\n",
    "\";\n",
    "\n",
    "SELECT pa_view_stmnt;\n",
    "\n",
    "EXECUTE IMMEDIATE pa_view_stmnt;"
   ]
  },
  {
   "cell_type": "code",
   "execution_count": 0,
   "metadata": {
    "application/vnd.databricks.v1+cell": {
     "cellMetadata": {
      "byteLimit": 2048000,
      "rowLimit": 10000
     },
     "inputWidgets": {},
     "nuid": "4fcdc5e8-b91e-44dd-b863-312c826bb8c8",
     "showTitle": true,
     "tableResultSettingsMap": {},
     "title": "Use GenAI to Enrich the Data to the Medical Directors and Care & Utilization Management Teams"
    }
   },
   "outputs": [],
   "source": [
    "SELECT \n",
    "  Claim:[0].resource.id::string as claim_id\n",
    "  ,Claim:[0].resource.use::string as use\n",
    "  ,Claim:[0].resource.created::TIMESTAMP as claim_created_datetime\n",
    "  ,Claim:[0].resource.diagnosis[0].diagnosisCodeableConcept.coding[0].code::string as diag_code_1\n",
    "  ,Claim:[0].resource.diagnosis[1].diagnosisCodeableConcept.coding[0].code::string as diag_code_2\n",
    "  ,Claim:[0].resource.diagnosis[2].diagnosisCodeableConcept.coding[0].code::string as diag_code_3\n",
    "  ,Claim:[0].resource.item[0].productOrService.coding[0].code::string as proc_code_1\n",
    "  ,Claim:[0].resource.priority.coding[0].code::string as priority\n",
    "  ,Claim:[0].resource.status::string as claim_status\n",
    "  ,Claim:[0].resource.type.coding[0].code::string as claim_type\n",
    "  -- use ai_query to query LLM\n",
    "  -- diagnosis_code_summary\n",
    "  ,ai_query(\n",
    "      endpoint => 'databricks-meta-llama-3-3-70b-instruct'\n",
    "      ,request => 'Lookup the ICD10 CM code descriptions for ' || \n",
    "        Claim:[0].resource.diagnosis[0].diagnosisCodeableConcept.coding[0].code::string ||\n",
    "         ', ' || Claim:[0].resource.diagnosis[1].diagnosisCodeableConcept.coding[0].code::string ||\n",
    "          ', and ' || Claim:[0].resource.diagnosis[2].diagnosisCodeableConcept.coding[0].code::string ||\n",
    "           '. Then summarize in less than 200 characters.'\n",
    "      ,returnType => 'STRING'\n",
    "    ) AS diagnosis_code_summary\n",
    "  --\n",
    "  ,ServiceRequest:[0].resource.code:coding[0].code::string as requested_pro_code\n",
    "  -- use ai_query to provide relevant information to the reviewer on the requested procedure\n",
    "  -- requested_procedure_description\n",
    "  ,ai_query(\n",
    "    endpoint => 'databricks-meta-llama-3-3-70b-instruct'\n",
    "    ,request => 'lookup HCPCS Procedure Code description for ' || ServiceRequest:[0].resource.code:coding[0].code::string\n",
    "    ,returnType => 'STRING'\n",
    "  ) AS requested_procedure_description\n",
    "  --\n",
    "  ,*\n",
    "FROM \n",
    "  prior_auth_request_bundle;"
   ]
  }
 ],
 "metadata": {
  "application/vnd.databricks.v1+notebook": {
   "computePreferences": null,
   "dashboards": [],
   "environmentMetadata": {
    "base_environment": "",
    "environment_version": "1"
   },
   "inputWidgetPreferences": null,
   "language": "sql",
   "notebookMetadata": {
    "mostRecentlyExecutedCommandWithImplicitDF": {
     "commandId": -1,
     "dataframes": [
      "_sqldf"
     ]
    },
    "pythonIndentUnit": 2
   },
   "notebookName": "0 - Prior Authorization Request Review",
   "widgets": {
    "bundle_uuid": {
     "currentValue": "4a3c1e1c-fcb6-435d-8d75-494ded242b42",
     "nuid": "41137793-eb00-4ca1-ac2d-744669daf21f",
     "typedWidgetInfo": {
      "autoCreated": false,
      "defaultValue": "1336c06c-902d-49cd-a80b-a02a617a3751",
      "label": "",
      "name": "bundle_uuid",
      "options": {
       "widgetDisplayType": "Text",
       "validationRegex": null
      },
      "parameterDataType": "String"
     },
     "widgetInfo": {
      "widgetType": "text",
      "defaultValue": "1336c06c-902d-49cd-a80b-a02a617a3751",
      "label": "",
      "name": "bundle_uuid",
      "options": {
       "widgetType": "text",
       "autoCreated": false,
       "validationRegex": null
      }
     }
    }
   }
  },
  "language_info": {
   "name": "sql"
  }
 },
 "nbformat": 4,
 "nbformat_minor": 0
}

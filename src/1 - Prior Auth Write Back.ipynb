{
 "cells": [
  {
   "cell_type": "markdown",
   "metadata": {
    "application/vnd.databricks.v1+cell": {
     "cellMetadata": {
      "byteLimit": 2048000,
      "rowLimit": 10000
     },
     "inputWidgets": {},
     "nuid": "4ca83272-939b-4bd3-94e7-a374952b4458",
     "showTitle": false,
     "tableResultSettingsMap": {},
     "title": ""
    }
   },
   "source": [
    "_Note: that this notebook needs to run on classic compute with a DBR Runtime greater than 15.3, and was run using ML 16.1 live during the webinar._  "
   ]
  },
  {
   "cell_type": "code",
   "execution_count": 0,
   "metadata": {
    "application/vnd.databricks.v1+cell": {
     "cellMetadata": {
      "byteLimit": 2048000,
      "rowLimit": 10000
     },
     "inputWidgets": {},
     "nuid": "b885f5c0-3353-4686-b642-d8e47e7698dd",
     "showTitle": true,
     "tableResultSettingsMap": {},
     "title": "Auto reload option for workspace libraries"
    }
   },
   "outputs": [],
   "source": [
    "%load_ext autoreload\n",
    "%autoreload 2"
   ]
  },
  {
   "cell_type": "code",
   "execution_count": 0,
   "metadata": {
    "application/vnd.databricks.v1+cell": {
     "cellMetadata": {
      "byteLimit": 2048000,
      "rowLimit": 10000
     },
     "inputWidgets": {},
     "nuid": "56e88cdd-75f9-4e22-9449-27da68b2422c",
     "showTitle": true,
     "tableResultSettingsMap": {},
     "title": "pip Install dbignite in the Notebook"
    }
   },
   "outputs": [],
   "source": [
    "%pip install git+https://github.com/databrickslabs/dbignite.git"
   ]
  },
  {
   "cell_type": "code",
   "execution_count": 0,
   "metadata": {
    "application/vnd.databricks.v1+cell": {
     "cellMetadata": {
      "byteLimit": 2048000,
      "rowLimit": 10000
     },
     "inputWidgets": {},
     "nuid": "7fc7a4fc-9cbf-495c-816d-5ccba654fc23",
     "showTitle": true,
     "tableResultSettingsMap": {},
     "title": "pip Install redox-ehr-api in the Notebook"
    }
   },
   "outputs": [],
   "source": [
    "%pip install git+https://github.com/databricks-industry-solutions/redox-ehr-api"
   ]
  },
  {
   "cell_type": "code",
   "execution_count": 0,
   "metadata": {
    "application/vnd.databricks.v1+cell": {
     "cellMetadata": {
      "byteLimit": 2048000,
      "rowLimit": 10000
     },
     "inputWidgets": {},
     "nuid": "83ca8f01-2fd8-451c-9717-ff9c6686af60",
     "showTitle": true,
     "tableResultSettingsMap": {},
     "title": "Restart python after Pip install"
    }
   },
   "outputs": [],
   "source": [
    "%restart_python"
   ]
  },
  {
   "cell_type": "markdown",
   "metadata": {
    "application/vnd.databricks.v1+cell": {
     "cellMetadata": {
      "byteLimit": 2048000,
      "rowLimit": 10000
     },
     "inputWidgets": {},
     "nuid": "91ee9781-68da-46cc-bc0a-5bce1220f414",
     "showTitle": false,
     "tableResultSettingsMap": {},
     "title": ""
    }
   },
   "source": [
    "# Databricks Health & Life Sciences\n",
    "### HIMSS 2025\n",
    "## Prior Authorization Review with DBSQL, Variant, dbignite & redox-ehr-api\n",
    "\n",
    "*** "
   ]
  },
  {
   "cell_type": "markdown",
   "metadata": {
    "application/vnd.databricks.v1+cell": {
     "cellMetadata": {
      "byteLimit": 2048000,
      "rowLimit": 10000
     },
     "inputWidgets": {},
     "nuid": "cd5190bf-7e56-46d7-9d49-8c14a4018f4d",
     "showTitle": false,
     "tableResultSettingsMap": {},
     "title": ""
    }
   },
   "source": [
    "## Write Back Claim Response\n",
    "***"
   ]
  },
  {
   "cell_type": "code",
   "execution_count": 0,
   "metadata": {
    "application/vnd.databricks.v1+cell": {
     "cellMetadata": {
      "byteLimit": 2048000,
      "implicitDf": true,
      "rowLimit": 10000
     },
     "inputWidgets": {},
     "nuid": "ebd1bb71-3b66-4aee-8ea2-20f66e982d65",
     "showTitle": true,
     "tableResultSettingsMap": {},
     "title": "Set the Catalog and Schema"
    }
   },
   "outputs": [],
   "source": [
    "%sql\n",
    "USE redox.hls_webinar_fy25q4;"
   ]
  },
  {
   "cell_type": "code",
   "execution_count": 0,
   "metadata": {
    "application/vnd.databricks.v1+cell": {
     "cellMetadata": {
      "byteLimit": 2048000,
      "rowLimit": 10000
     },
     "inputWidgets": {},
     "nuid": "2999a105-233e-4cf9-9646-4cca38d2c066",
     "showTitle": true,
     "tableResultSettingsMap": {},
     "title": "Load the Prior Auth Request as Spark Dataframe"
    }
   },
   "outputs": [],
   "source": [
    "df = spark.table(\"prior_auth_request_bundle\")\n",
    "display(df)"
   ]
  },
  {
   "cell_type": "code",
   "execution_count": 0,
   "metadata": {
    "application/vnd.databricks.v1+cell": {
     "cellMetadata": {
      "byteLimit": 2048000,
      "rowLimit": 10000
     },
     "inputWidgets": {},
     "nuid": "11ac7277-02ff-4370-ac2b-ed56e07ac15a",
     "showTitle": true,
     "tableResultSettingsMap": {},
     "title": "Create an array of the resources available in the bundle"
    }
   },
   "outputs": [],
   "source": [
    "resources = [\"Claim\", \"Patient\", \"Practitioner\", \"Organization\", \"Coverage\", \"RelatedPerson\", \"ServiceRequest\"]\n",
    "resources"
   ]
  },
  {
   "cell_type": "code",
   "execution_count": 0,
   "metadata": {
    "application/vnd.databricks.v1+cell": {
     "cellMetadata": {
      "byteLimit": 2048000,
      "rowLimit": 10000
     },
     "inputWidgets": {},
     "nuid": "2241ed5b-c6b8-421d-9e4d-2ef69d00023f",
     "showTitle": true,
     "tableResultSettingsMap": {},
     "title": "Determine JSON Schemas of the Variant Objects"
    }
   },
   "outputs": [],
   "source": [
    "from pyspark.sql.functions import schema_of_variant, schema_of_variant_agg, variant_get\n",
    "from pyspark.sql.functions import col, regexp_replace\n",
    "\n",
    "schemas = (\n",
    "  df\n",
    "  .groupBy(col(\"bundle_uuid\"))\n",
    "  .agg(*[regexp_replace(schema_of_variant_agg(col(r)), 'OBJECT', 'STRUCT')\n",
    "    .alias(f\"{r}_schema\") for r in resources])\n",
    ")\n",
    "\n",
    "schema_dict = {f\"{r}\": row[f\"{r}_schema\"] for row in schemas.collect() for r in resources}\n",
    "\n",
    "# example for Claim\n",
    "schema_dict.get(\"Claim\")"
   ]
  },
  {
   "cell_type": "code",
   "execution_count": 0,
   "metadata": {
    "application/vnd.databricks.v1+cell": {
     "cellMetadata": {
      "byteLimit": 2048000,
      "rowLimit": 10000
     },
     "inputWidgets": {},
     "nuid": "78ff66ff-e5b0-44a8-abd6-a7332386069a",
     "showTitle": true,
     "tableResultSettingsMap": {},
     "title": "Convert the Variant Columns to Fully Parsed Structs - No JSON Schemas Required"
    }
   },
   "outputs": [],
   "source": [
    "from pyspark.sql.functions import cast, to_json, from_json\n",
    "\n",
    "df_transformed = (\n",
    "  df.select(\n",
    "    col(\"bundle_uuid\")\n",
    "    ,*[from_json(to_json(col(r)), schema_dict.get(r)).alias(r) for r in resources]\n",
    "  )\n",
    ")\n",
    "\n",
    "display(df_transformed)"
   ]
  },
  {
   "cell_type": "code",
   "execution_count": 0,
   "metadata": {
    "application/vnd.databricks.v1+cell": {
     "cellMetadata": {
      "byteLimit": 2048000,
      "rowLimit": 10000
     },
     "inputWidgets": {},
     "nuid": "39ac32b9-ed88-4020-a8ba-3222c1be146d",
     "showTitle": true,
     "tableResultSettingsMap": {},
     "title": "Join the Transformed DF With Data From Your Utilization Management System"
    }
   },
   "outputs": [],
   "source": [
    "from pyspark.sql.functions import lit, struct, array, expr, col, concat, current_timestamp\n",
    "\n",
    "claimResponse = (\n",
    "  df_transformed\n",
    "  .select(\n",
    "    col(\"Patient\")[0].alias(\"Patient\")\n",
    "    ,col(\"Claim\")[0].alias(\"Claim\")\n",
    "    ,col(\"Practitioner\")[0].alias(\"Practitioner\")\n",
    "    ,col(\"Organization\")[0].alias(\"Organization_1\")\n",
    "    ,col(\"Organization\")[1].alias(\"Organization_2\")\n",
    "    ,col(\"Coverage\")[0].alias(\"Coverage\")\n",
    "    ,col(\"RelatedPerson\")[0].alias(\"RelatedPerson\")\n",
    "    ,col(\"ServiceRequest\")[0].alias(\"ServiceRequest\")\n",
    "  )\n",
    "  .withColumn(\"id\", expr(\"uuid()\"))\n",
    "  .withColumn(\"claimResponse_id\", concat(lit(\"/databricks/mgiglia/\"), col(\"id\")))\n",
    "  .withColumn(\"claimResponse_patient_reference\", col(\"Claim\").resource.patient.reference)\n",
    "  .withColumn(\"claimResponse_status\", lit(\"active\"))\n",
    "  .withColumn(\"claimResponse_use\", lit(\"preauthorization\"))\n",
    "  .withColumn(\"claimResponse_type_code\", col(\"Claim\").resource.type.coding[0].code)\n",
    "  .withColumn(\"claimResponse_type_system\", lit(\"http://terminology.hl7.org/CodeSystem/claim-type\"))\n",
    "  .withColumn(\"adjudication_system\", lit(\"http://terminology.hl7.org/CodeSystem/adjudication\"))\n",
    "  .withColumn(\"adjudication_code\", lit(\"eligible\"))\n",
    "  .withColumn(\"claimResponse_created\", current_timestamp().cast(\"string\"))\n",
    "  .withColumn(\"claimResponse_outcome\", lit(\"complete\"))\n",
    "  .withColumn(\"claimResponse_text\", lit(\"Requested preauthorization has been approved.\"))\n",
    "  .withColumn(\"patient_resource\", col(\"Patient\").resource)\n",
    "  .withColumn(\"patient_resource_id\", col(\"Patient\").resource.id)\n",
    ")  \n",
    "\n",
    "display(claimResponse)"
   ]
  },
  {
   "cell_type": "markdown",
   "metadata": {
    "application/vnd.databricks.v1+cell": {
     "cellMetadata": {
      "byteLimit": 2048000,
      "rowLimit": 10000
     },
     "inputWidgets": {},
     "nuid": "eca698cd-e564-4529-b303-da9ca712c177",
     "showTitle": false,
     "tableResultSettingsMap": {},
     "title": ""
    }
   },
   "source": [
    "## Writing FHIR Compliant JSON Bundles with dbignite\n",
    "***"
   ]
  },
  {
   "cell_type": "code",
   "execution_count": 0,
   "metadata": {
    "application/vnd.databricks.v1+cell": {
     "cellMetadata": {
      "byteLimit": 2048000,
      "rowLimit": 10000
     },
     "inputWidgets": {},
     "nuid": "a65c3e84-e0dc-4ff6-966d-9166ffdad5bd",
     "showTitle": true,
     "tableResultSettingsMap": {},
     "title": "Import the dbignite Writer Classes and Methods"
    }
   },
   "outputs": [],
   "source": [
    "from dbignite.writer.bundler import *\n",
    "from dbignite.writer.fhir_encoder import *"
   ]
  },
  {
   "cell_type": "code",
   "execution_count": 0,
   "metadata": {
    "application/vnd.databricks.v1+cell": {
     "cellMetadata": {
      "byteLimit": 2048000,
      "rowLimit": 10000
     },
     "inputWidgets": {},
     "nuid": "e6ee1df9-ba4c-40d4-9dd8-a9110173bb93",
     "showTitle": true,
     "tableResultSettingsMap": {},
     "title": "Map Your Dataframe Columns to FHIR Elements"
    }
   },
   "outputs": [],
   "source": [
    "maps = [\n",
    "  Mapping('claimResponse_id', 'ClaimResponse.id')\n",
    "  ,Mapping('claimResponse_status', 'ClaimResponse.status')\n",
    "  ,Mapping('claimResponse_use', 'ClaimResponse.use')\n",
    "  ,Mapping('claimResponse_type_code', 'ClaimResponse.type.coding.code')\n",
    "  ,Mapping('claimResponse_type_system', 'ClaimResponse.type.coding.system')\n",
    "  ,Mapping('adjudication_system', 'ClaimResponse.item.adjudication.category.coding.system')\n",
    "  ,Mapping('adjudication_code', 'ClaimResponse.item.adjudication.category.coding.code')\n",
    "  ,Mapping('claimResponse_text', 'ClaimResponse.type.text')\n",
    "  ,Mapping('claimResponse_outcome', 'ClaimResponse.outcome')\n",
    "  ,Mapping('claimResponse_created', 'ClaimResponse.created')\n",
    "]"
   ]
  },
  {
   "cell_type": "code",
   "execution_count": 0,
   "metadata": {
    "application/vnd.databricks.v1+cell": {
     "cellMetadata": {
      "byteLimit": 2048000,
      "rowLimit": 10000
     },
     "inputWidgets": {},
     "nuid": "f6a7b19a-9133-4145-bb30-92ca0b77533e",
     "showTitle": true,
     "tableResultSettingsMap": {},
     "title": "Apply the Maps based on the dataframe's schema and create a bundle."
    }
   },
   "outputs": [],
   "source": [
    "# Instance of the encoder & bundle writer\n",
    "#  - Encoder transforms data to valid FHIR format in Spark\n",
    "#  - bundler maps data to json format\n",
    "m = MappingManager(maps, claimResponse.schema)\n",
    "b = Bundle(m)\n",
    "result = b.df_to_fhir(claimResponse)"
   ]
  },
  {
   "cell_type": "code",
   "execution_count": 0,
   "metadata": {
    "application/vnd.databricks.v1+cell": {
     "cellMetadata": {
      "byteLimit": 2048000,
      "rowLimit": 10000
     },
     "inputWidgets": {},
     "nuid": "8d5cb917-f026-4241-a7af-5dbf7e2f0aaf",
     "showTitle": true,
     "tableResultSettingsMap": {},
     "title": "Example of the JSON Created by the Mapping Manager"
    }
   },
   "outputs": [],
   "source": [
    "print('\\n'.join([str(x) for x in \n",
    "       result.map(lambda x: json.loads(x)).map(lambda x: json.dumps(x, indent=4)).take(10)]))"
   ]
  },
  {
   "cell_type": "markdown",
   "metadata": {
    "application/vnd.databricks.v1+cell": {
     "cellMetadata": {
      "byteLimit": 2048000,
      "rowLimit": 10000
     },
     "inputWidgets": {},
     "nuid": "1961b7e0-8949-4f35-b962-c8a5253c0b19",
     "showTitle": false,
     "tableResultSettingsMap": {},
     "title": ""
    }
   },
   "source": [
    "## Easy Direct Connections to Redox \n",
    "***"
   ]
  },
  {
   "cell_type": "code",
   "execution_count": 0,
   "metadata": {
    "application/vnd.databricks.v1+cell": {
     "cellMetadata": {
      "byteLimit": 2048000,
      "rowLimit": 10000
     },
     "inputWidgets": {},
     "nuid": "927f484b-ce9c-4260-9c51-37c775b8be81",
     "showTitle": true,
     "tableResultSettingsMap": {},
     "title": "Load the Databricks Secret Scope where the Redox Credentials are Stored"
    }
   },
   "outputs": [],
   "source": [
    "# Databricks Secret Scope for the Run-As User -- note Matt's recommended best practice is to have user's scope based on their username as shown with the default value in the widget call.  \n",
    "dbutils.widgets.text(\n",
    "  \"databricks_secret_scope\"\n",
    "  ,spark.sql(\"select current_user()\").collect()[0][0].split(sep=\"@\")[0].replace(\".\", \"-\")\n",
    "  ,\"User's Personal DB Secrets Scope\"\n",
    ")"
   ]
  },
  {
   "cell_type": "markdown",
   "metadata": {
    "application/vnd.databricks.v1+cell": {
     "cellMetadata": {
      "byteLimit": 2048000,
      "rowLimit": 10000
     },
     "inputWidgets": {},
     "nuid": "70ba7b47-1e66-41bc-ad5b-f60e74f0072d",
     "showTitle": false,
     "tableResultSettingsMap": {},
     "title": ""
    }
   },
   "source": [
    "*Contact your Databricks or Redox Account Teams to learn more about Redox credentials and source ids.*"
   ]
  },
  {
   "cell_type": "markdown",
   "metadata": {
    "application/vnd.databricks.v1+cell": {
     "cellMetadata": {
      "byteLimit": 2048000,
      "rowLimit": 10000
     },
     "inputWidgets": {},
     "nuid": "f132e586-51ee-4434-94d4-c1607c9e648c",
     "showTitle": false,
     "tableResultSettingsMap": {},
     "title": ""
    }
   },
   "source": [
    "* The **redox_private_key** is the full multiline PEM file value this includes everything including the dashes around the begin and end private key lines.   \n",
    "* The **redox_client_id** is the client id associated with your specific API key.  \n",
    "* The **redox_public_kid** is the \"kid\" value from your specific API's public JSON file.  \n",
    "* The **redox_source_id** represents the unique identifier for the environment's Request Ingress endpoint.  This is the same for all user's in the Redox environment (e.g. Development) and may be found on the Connections page in the Redox portal. "
   ]
  },
  {
   "cell_type": "code",
   "execution_count": 0,
   "metadata": {
    "application/vnd.databricks.v1+cell": {
     "cellMetadata": {
      "byteLimit": 2048000,
      "rowLimit": 10000
     },
     "inputWidgets": {},
     "nuid": "29f4a092-9f6d-45ae-88f0-214744f1f307",
     "showTitle": true,
     "tableResultSettingsMap": {},
     "title": "Retrieve Redox API Secret Values"
    }
   },
   "outputs": [],
   "source": [
    "databricks_secrete_scope = \"redox-field-eng\"\n",
    "\n",
    "redox_private_key = dbutils.secrets.get(scope = dbutils.widgets.get(\"databricks_secret_scope\"), key = \"redox_private_key\")\n",
    "redox_client_id = dbutils.secrets.get(scope = dbutils.widgets.get(\"databricks_secret_scope\"), key = \"redox_client_id\")\n",
    "redox_source_id = dbutils.secrets.get(scope = dbutils.widgets.get(\"databricks_secret_scope\"), key = \"redox_source_id\")\n",
    "redox_public_kid = dbutils.secrets.get(scope = dbutils.widgets.get(\"databricks_secret_scope\"), key = \"redox_public_kid\")\n",
    "\n",
    "print(f\"\"\" \n",
    "      redox_private_key: {redox_private_key}\n",
    "      redox_client_id: {redox_client_id}\n",
    "      redox_source_id: {redox_source_id}\n",
    "      redox_public_kid: {redox_public_kid}\n",
    "\"\"\")"
   ]
  },
  {
   "cell_type": "code",
   "execution_count": 0,
   "metadata": {
    "application/vnd.databricks.v1+cell": {
     "cellMetadata": {
      "byteLimit": 2048000,
      "rowLimit": 10000
     },
     "inputWidgets": {},
     "nuid": "7e355669-45fe-4706-8f4c-f4cd8c52a263",
     "showTitle": true,
     "tableResultSettingsMap": {},
     "title": "Credentials Setup"
    }
   },
   "outputs": [],
   "source": [
    "import json\n",
    "\n",
    "redox_auth_json = f\"\"\"\n",
    "{{\n",
    "  \"kty\": \"RSA\",\n",
    "  \"kid\": \"{redox_public_kid}\",\n",
    "  \"alg\": \"RS384\",\n",
    "  \"use\": \"sig\"\n",
    "}}\n",
    "\"\"\"\n",
    "\n",
    "json.loads(redox_auth_json)"
   ]
  },
  {
   "cell_type": "code",
   "execution_count": 0,
   "metadata": {
    "application/vnd.databricks.v1+cell": {
     "cellMetadata": {
      "byteLimit": 2048000,
      "rowLimit": 10000
     },
     "inputWidgets": {},
     "nuid": "0e2f78b9-b8a6-4a89-994c-7b118723d324",
     "showTitle": true,
     "tableResultSettingsMap": {},
     "title": "Import the redoxwrite Accelerator from Databricks Industry Solutions"
    }
   },
   "outputs": [],
   "source": [
    "from redoxwrite.auth import * \n",
    "from redoxwrite.endpoint import *"
   ]
  },
  {
   "cell_type": "code",
   "execution_count": 0,
   "metadata": {
    "application/vnd.databricks.v1+cell": {
     "cellMetadata": {
      "byteLimit": 2048000,
      "rowLimit": 10000
     },
     "inputWidgets": {},
     "nuid": "7381ed3e-3873-46d6-9294-02b782798a16",
     "showTitle": true,
     "tableResultSettingsMap": {},
     "title": "Test the Connection"
    }
   },
   "outputs": [],
   "source": [
    "auth = RedoxApiAuth(\n",
    "  redox_client_id\n",
    "  ,redox_private_key\n",
    "  ,redox_auth_json\n",
    "  ,redox_source_id\n",
    ")\n",
    "print(\"Is connection successful? \" + str(auth.can_connect()))"
   ]
  },
  {
   "cell_type": "code",
   "execution_count": 0,
   "metadata": {
    "application/vnd.databricks.v1+cell": {
     "cellMetadata": {
      "byteLimit": 2048000,
      "rowLimit": 10000
     },
     "inputWidgets": {},
     "nuid": "ffda978a-58c4-4a59-8c4d-36f74e9e725e",
     "showTitle": true,
     "tableResultSettingsMap": {},
     "title": "Create API Endpoint"
    }
   },
   "outputs": [],
   "source": [
    "#All Redox FHIR request URLs start with this base: https://api.redoxengine.com/fhir/R4/[organization-name]/[environment-type]/\n",
    "redox_base_url = 'https://api.redoxengine.com/fhir/R4/redox-fhir-sandbox/Development/'\n",
    "\n",
    "rapi = RedoxApiRequest(auth, base_url = redox_base_url)"
   ]
  },
  {
   "cell_type": "markdown",
   "metadata": {
    "application/vnd.databricks.v1+cell": {
     "cellMetadata": {
      "byteLimit": 2048000,
      "rowLimit": 10000
     },
     "inputWidgets": {},
     "nuid": "44530c65-8846-419b-8139-84991980a8b5",
     "showTitle": false,
     "tableResultSettingsMap": {},
     "title": ""
    }
   },
   "source": [
    "## Interact with FHIR"
   ]
  },
  {
   "cell_type": "code",
   "execution_count": 0,
   "metadata": {
    "application/vnd.databricks.v1+cell": {
     "cellMetadata": {
      "byteLimit": 2048000,
      "rowLimit": 10000
     },
     "inputWidgets": {},
     "nuid": "b6fb3428-9e7f-428b-a00a-d6043b9cfe0e",
     "showTitle": true,
     "tableResultSettingsMap": {},
     "title": "Create an Observation"
    }
   },
   "outputs": [],
   "source": [
    "#creating an observation for remaining length of 4 day stay at a hospital \n",
    "observation = \"\"\"\n",
    "{\n",
    "   \"resourceType\":\"Bundle\",\n",
    "   \"entry\":[\n",
    "      {\n",
    "         \"resource\":{\n",
    "            \"category\":[\n",
    "               {\n",
    "                  \"coding\":[\n",
    "                     {\n",
    "                        \"code\":\"survey\",\n",
    "                        \"display\":\"Survey\",\n",
    "                        \"system\":\"http://terminology.hl7.org/CodeSystem/observation-category\"\n",
    "                     }\n",
    "                  ]\n",
    "               }\n",
    "            ],\n",
    "            \"code\":{\n",
    "               \"coding\":[\n",
    "                  {\n",
    "                     \"code\":\"78033-8\",\n",
    "                     \"display\":\"Remaining Hospital Stay\",\n",
    "                     \"system\":\"http://loinc.org\"\n",
    "                  }\n",
    "               ],\n",
    "               \"text\":\"Remaining Hospital Stay\"\n",
    "            },\n",
    "            \"effectiveDateTime\":\"2024-01-28T18:06:33.245-05:00\",\n",
    "            \"issued\":\"2024-01-28T18:06:33.245-05:00\",\n",
    "            \"resourceType\":\"Observation\",\n",
    "            \"status\":\"final\",\n",
    "            \"valueQuantity\":{\n",
    "               \"code\":\"days\",\n",
    "               \"system\":\"https://www.nubc.org/CodeSystem/RevenueCodes\",\n",
    "               \"unit\":\"days\",\n",
    "               \"value\":4\n",
    "            },\n",
    "            \"subject\": {\n",
    "              \"reference\": \"Patient/58117110-ae47-452a-be2c-2d82b3a9e24b\"\n",
    "            },\n",
    "            \"identifier\": [\n",
    "            {\n",
    "              \"system\": \"urn:databricks\",\n",
    "              \"value\": \"1234567890\"\n",
    "            }\n",
    "          ]\n",
    "         }\n",
    "      },\n",
    "      {\n",
    "         \"resource\":{\n",
    "           \"resourceType\": \"Patient\",\n",
    "           \"identifier\": [\n",
    "            {\n",
    "              \"system\": \"urn:redox:health-one:MR\",\n",
    "              \"value\": \"0000991458\"\n",
    "            },\n",
    "            {\n",
    "              \"system\": \"http://hl7.org/fhir/sid/us-ssn\",\n",
    "              \"value\": \"547-01-9991\"\n",
    "            }\n",
    "          ]\n",
    "         }\n",
    "      }\n",
    "   ]\n",
    "}\n",
    "\"\"\""
   ]
  },
  {
   "cell_type": "code",
   "execution_count": 0,
   "metadata": {
    "application/vnd.databricks.v1+cell": {
     "cellMetadata": {
      "byteLimit": 2048000,
      "rowLimit": 10000
     },
     "inputWidgets": {},
     "nuid": "7150c77c-b10d-4d01-bda7-a9a72d827f4e",
     "showTitle": true,
     "tableResultSettingsMap": {},
     "title": "Print the string as a JSON object."
    }
   },
   "outputs": [],
   "source": [
    "print(json.loads(json.dumps(observation, indent=2)))"
   ]
  },
  {
   "cell_type": "code",
   "execution_count": 0,
   "metadata": {
    "application/vnd.databricks.v1+cell": {
     "cellMetadata": {
      "byteLimit": 2048000,
      "rowLimit": 10000
     },
     "inputWidgets": {},
     "nuid": "cd890701-9e8c-41fd-a0e1-133cdcb7f85f",
     "showTitle": true,
     "tableResultSettingsMap": {},
     "title": "Post Observation to EHR"
    }
   },
   "outputs": [],
   "source": [
    "result = rapi.make_request(\n",
    "  \"post\"\n",
    "  ,resource=\"Observation\"\n",
    "  ,action=\"$observation-create\"\n",
    "  ,data=observation\n",
    ")"
   ]
  },
  {
   "cell_type": "code",
   "execution_count": 0,
   "metadata": {
    "application/vnd.databricks.v1+cell": {
     "cellMetadata": {
      "byteLimit": 2048000,
      "rowLimit": 10000
     },
     "inputWidgets": {},
     "nuid": "de301290-ce02-41ea-83ff-2cab25980be6",
     "showTitle": true,
     "tableResultSettingsMap": {},
     "title": "Confirm Post Succeeded"
    }
   },
   "outputs": [],
   "source": [
    "if result['response']['response_status_code'] != 200:\n",
    "  print(\"Failed to update the patient information\")\n",
    "print(json.dumps(json.loads(result['response']['response_text']), indent=2))"
   ]
  },
  {
   "cell_type": "code",
   "execution_count": 0,
   "metadata": {
    "application/vnd.databricks.v1+cell": {
     "cellMetadata": {
      "byteLimit": 2048000,
      "rowLimit": 10000
     },
     "inputWidgets": {},
     "nuid": "f6cd3ab6-667a-4a0a-a3e4-2f89e849f4f2",
     "showTitle": true,
     "tableResultSettingsMap": {},
     "title": "Now Retrieve the Same Data Back from Redox"
    }
   },
   "outputs": [],
   "source": [
    "observation_id = json.loads(result['response']['response_text'])['entry'][0]['response']['location'].split('/')[-3]\n",
    "response = rapi.make_request(\"get\", resource=\"Observation\", action=observation_id)\n",
    "\n",
    "data = json.loads(response['response']['response_text'])\n",
    "\n",
    "assert data['valueQuantity']['value'] == 4\n",
    "print(json.dumps(data, indent=2))"
   ]
  }
 ],
 "metadata": {
  "application/vnd.databricks.v1+notebook": {
   "computePreferences": {
    "hardware": {
     "accelerator": null,
     "gpuPoolId": null,
     "memory": null
    }
   },
   "dashboards": [],
   "environmentMetadata": {
    "base_environment": "",
    "dependencies": [
     "git+https://github.com/databrickslabs/dbignite.git"
    ],
    "environment_version": "2"
   },
   "inputWidgetPreferences": null,
   "language": "python",
   "notebookMetadata": {
    "mostRecentlyExecutedCommandWithImplicitDF": {
     "commandId": 2804724653982089,
     "dataframes": [
      "_sqldf"
     ]
    },
    "pythonIndentUnit": 2
   },
   "notebookName": "1 - Prior Auth Write Back",
   "widgets": {
    "databricks_secret_scope": {
     "currentValue": "redox-field-eng",
     "nuid": "f9344b29-e47b-48b1-8fed-f2f49bf6e300",
     "typedWidgetInfo": {
      "autoCreated": false,
      "defaultValue": "matthew-giglia",
      "label": "User's Personal DB Secrets Scope",
      "name": "databricks_secret_scope",
      "options": {
       "widgetDisplayType": "Text",
       "validationRegex": null
      },
      "parameterDataType": "String"
     },
     "widgetInfo": {
      "widgetType": "text",
      "defaultValue": "matthew-giglia",
      "label": "User's Personal DB Secrets Scope",
      "name": "databricks_secret_scope",
      "options": {
       "widgetType": "text",
       "autoCreated": null,
       "validationRegex": null
      }
     }
    }
   }
  },
  "language_info": {
   "name": "python"
  }
 },
 "nbformat": 4,
 "nbformat_minor": 0
}
